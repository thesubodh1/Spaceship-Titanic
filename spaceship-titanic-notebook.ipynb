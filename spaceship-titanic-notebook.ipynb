{
 "cells": [
  {
   "cell_type": "markdown",
   "id": "c5fc0b1e-e786-4e9f-aa93-940cce44b4e7",
   "metadata": {},
   "source": [
    "# Spaceship Titanic\n",
    "\n",
    "In this notebook we are going to analyze which passengers of the spaceship titanic were taken to another dimension by space time anamoly after the collousion so that the scientist could retrive them back in time\n",
    "\n",
    "we are going to follow the following Framework\n",
    "1. Problem Defination\n",
    "2. Data\n",
    "3. Evaluation\n",
    "4. Features\n",
    "5. Modeling\n",
    "6. Experimentation"
   ]
  },
  {
   "cell_type": "markdown",
   "id": "96d80294-ff4b-4f1d-8a37-89717fe56378",
   "metadata": {},
   "source": [
    "## 1. Problem Defination\n",
    "> Using the data from spaceship damaged computer predict which passengers were transported by anamoly"
   ]
  },
  {
   "cell_type": "markdown",
   "id": "967c2d22-1ad4-48de-9468-f10899449dd5",
   "metadata": {},
   "source": [
    "## 2. Data\n",
    "> There are two different data sets i.e Training and Test data\n",
    "\n",
    "check the following link for original data set https://www.kaggle.com/competitions/spaceship-titanic/data\n"
   ]
  },
  {
   "cell_type": "markdown",
   "id": "15aba183-88cd-468f-bf42-fde9ddfc55fb",
   "metadata": {},
   "source": [
    "## 3. Evaluation\n",
    "> we are going to use the classification models with their default evaluation matrices"
   ]
  },
  {
   "cell_type": "markdown",
   "id": "19187b77-4b5a-4a6a-a5c2-85d36754f599",
   "metadata": {},
   "source": [
    "## 4. Features\n",
    "* PassengerId - A unique Id for each passenger. Each Id takes the form gggg_pp where gggg indicates a group the passenger is travelling with and pp is                   their number within the group. People in a group are often family members, but not always.\n",
    "* HomePlanet - The planet the passenger departed from, typically their planet of permanent residence.\n",
    "* CryoSleep - Indicates whether the passenger elected to be put into suspended animation for the duration of the voyage. Passengers in cryosleep are confined to their cabins.\n",
    "* Cabin - The cabin number where the passenger is staying. Takes the form deck/num/side, where side can be either P for Port or S for Starboard.\n",
    "* Destination - The planet the passenger will be debarking to.\n",
    "* Age - The age of the passenger.\n",
    "* VIP - Whether the passenger has paid for special VIP service during the voyage.\n",
    "    RoomService, FoodCourt, ShoppingMall, Spa, VRDeck - Amount the passenger has billed at each of the Spaceship Titanic's many luxury amenities.\n",
    "* Name - The first and last names of the passenger.\n",
    "* Transported - Whether the passenger was transported to another dimension. This is the target, the column you are trying to predict."
   ]
  },
  {
   "cell_type": "code",
   "execution_count": 68,
   "id": "4842ac13-1442-4ca4-a21e-9eebaa99ca48",
   "metadata": {},
   "outputs": [],
   "source": [
    "# lets import all the tools that we need\n",
    "\n",
    "# EDA or exploratory data analysis tool\n",
    "import pandas as pd\n",
    "import numpy as np\n",
    "import matplotlib.pyplot as plt\n",
    "import seaborn as sns\n",
    "\n",
    "# lets import the models\n",
    "from sklearn.ensemble import RandomForestClassifier\n",
    "from sklearn.linear_model import LogisticRegression\n",
    "from sklearn.model_selection import train_test_split\n",
    "\n",
    "# lets import evaluation metrices\n",
    "from sklearn.metrics import classification_report,f1_score,accuracy_score,precision_score,recall_score,confusion_matrix,ConfusionMatrixDisplay\n",
    "from sklearn.model_selection import RandomizedSearchCV,GridSearchCV\n"
   ]
  },
  {
   "cell_type": "code",
   "execution_count": 3,
   "id": "c503b91a-9834-449b-b861-65cf85fe7fcf",
   "metadata": {},
   "outputs": [
    {
     "data": {
      "text/html": [
       "<div>\n",
       "<style scoped>\n",
       "    .dataframe tbody tr th:only-of-type {\n",
       "        vertical-align: middle;\n",
       "    }\n",
       "\n",
       "    .dataframe tbody tr th {\n",
       "        vertical-align: top;\n",
       "    }\n",
       "\n",
       "    .dataframe thead th {\n",
       "        text-align: right;\n",
       "    }\n",
       "</style>\n",
       "<table border=\"1\" class=\"dataframe\">\n",
       "  <thead>\n",
       "    <tr style=\"text-align: right;\">\n",
       "      <th></th>\n",
       "      <th>PassengerId</th>\n",
       "      <th>HomePlanet</th>\n",
       "      <th>CryoSleep</th>\n",
       "      <th>Cabin</th>\n",
       "      <th>Destination</th>\n",
       "      <th>Age</th>\n",
       "      <th>VIP</th>\n",
       "      <th>RoomService</th>\n",
       "      <th>FoodCourt</th>\n",
       "      <th>ShoppingMall</th>\n",
       "      <th>Spa</th>\n",
       "      <th>VRDeck</th>\n",
       "      <th>Name</th>\n",
       "      <th>Transported</th>\n",
       "    </tr>\n",
       "  </thead>\n",
       "  <tbody>\n",
       "    <tr>\n",
       "      <th>0</th>\n",
       "      <td>0001_01</td>\n",
       "      <td>Europa</td>\n",
       "      <td>False</td>\n",
       "      <td>B/0/P</td>\n",
       "      <td>TRAPPIST-1e</td>\n",
       "      <td>39.0</td>\n",
       "      <td>False</td>\n",
       "      <td>0.0</td>\n",
       "      <td>0.0</td>\n",
       "      <td>0.0</td>\n",
       "      <td>0.0</td>\n",
       "      <td>0.0</td>\n",
       "      <td>Maham Ofracculy</td>\n",
       "      <td>False</td>\n",
       "    </tr>\n",
       "    <tr>\n",
       "      <th>1</th>\n",
       "      <td>0002_01</td>\n",
       "      <td>Earth</td>\n",
       "      <td>False</td>\n",
       "      <td>F/0/S</td>\n",
       "      <td>TRAPPIST-1e</td>\n",
       "      <td>24.0</td>\n",
       "      <td>False</td>\n",
       "      <td>109.0</td>\n",
       "      <td>9.0</td>\n",
       "      <td>25.0</td>\n",
       "      <td>549.0</td>\n",
       "      <td>44.0</td>\n",
       "      <td>Juanna Vines</td>\n",
       "      <td>True</td>\n",
       "    </tr>\n",
       "    <tr>\n",
       "      <th>2</th>\n",
       "      <td>0003_01</td>\n",
       "      <td>Europa</td>\n",
       "      <td>False</td>\n",
       "      <td>A/0/S</td>\n",
       "      <td>TRAPPIST-1e</td>\n",
       "      <td>58.0</td>\n",
       "      <td>True</td>\n",
       "      <td>43.0</td>\n",
       "      <td>3576.0</td>\n",
       "      <td>0.0</td>\n",
       "      <td>6715.0</td>\n",
       "      <td>49.0</td>\n",
       "      <td>Altark Susent</td>\n",
       "      <td>False</td>\n",
       "    </tr>\n",
       "    <tr>\n",
       "      <th>3</th>\n",
       "      <td>0003_02</td>\n",
       "      <td>Europa</td>\n",
       "      <td>False</td>\n",
       "      <td>A/0/S</td>\n",
       "      <td>TRAPPIST-1e</td>\n",
       "      <td>33.0</td>\n",
       "      <td>False</td>\n",
       "      <td>0.0</td>\n",
       "      <td>1283.0</td>\n",
       "      <td>371.0</td>\n",
       "      <td>3329.0</td>\n",
       "      <td>193.0</td>\n",
       "      <td>Solam Susent</td>\n",
       "      <td>False</td>\n",
       "    </tr>\n",
       "    <tr>\n",
       "      <th>4</th>\n",
       "      <td>0004_01</td>\n",
       "      <td>Earth</td>\n",
       "      <td>False</td>\n",
       "      <td>F/1/S</td>\n",
       "      <td>TRAPPIST-1e</td>\n",
       "      <td>16.0</td>\n",
       "      <td>False</td>\n",
       "      <td>303.0</td>\n",
       "      <td>70.0</td>\n",
       "      <td>151.0</td>\n",
       "      <td>565.0</td>\n",
       "      <td>2.0</td>\n",
       "      <td>Willy Santantines</td>\n",
       "      <td>True</td>\n",
       "    </tr>\n",
       "  </tbody>\n",
       "</table>\n",
       "</div>"
      ],
      "text/plain": [
       "  PassengerId HomePlanet CryoSleep  Cabin  Destination   Age    VIP  \\\n",
       "0     0001_01     Europa     False  B/0/P  TRAPPIST-1e  39.0  False   \n",
       "1     0002_01      Earth     False  F/0/S  TRAPPIST-1e  24.0  False   \n",
       "2     0003_01     Europa     False  A/0/S  TRAPPIST-1e  58.0   True   \n",
       "3     0003_02     Europa     False  A/0/S  TRAPPIST-1e  33.0  False   \n",
       "4     0004_01      Earth     False  F/1/S  TRAPPIST-1e  16.0  False   \n",
       "\n",
       "   RoomService  FoodCourt  ShoppingMall     Spa  VRDeck               Name  \\\n",
       "0          0.0        0.0           0.0     0.0     0.0    Maham Ofracculy   \n",
       "1        109.0        9.0          25.0   549.0    44.0       Juanna Vines   \n",
       "2         43.0     3576.0           0.0  6715.0    49.0      Altark Susent   \n",
       "3          0.0     1283.0         371.0  3329.0   193.0       Solam Susent   \n",
       "4        303.0       70.0         151.0   565.0     2.0  Willy Santantines   \n",
       "\n",
       "   Transported  \n",
       "0        False  \n",
       "1         True  \n",
       "2        False  \n",
       "3        False  \n",
       "4         True  "
      ]
     },
     "execution_count": 3,
     "metadata": {},
     "output_type": "execute_result"
    }
   ],
   "source": [
    "# lets import the data\n",
    "data = pd.read_csv(\"train.csv\")\n",
    "data.head()\n"
   ]
  },
  {
   "cell_type": "code",
   "execution_count": 4,
   "id": "d143a5f8-3b09-401e-9b3c-91827e69632d",
   "metadata": {},
   "outputs": [
    {
     "data": {
      "text/plain": [
       "Transported\n",
       "True     4378\n",
       "False    4315\n",
       "Name: count, dtype: int64"
      ]
     },
     "execution_count": 4,
     "metadata": {},
     "output_type": "execute_result"
    }
   ],
   "source": [
    "data[\"Transported\"].value_counts()"
   ]
  },
  {
   "cell_type": "code",
   "execution_count": 5,
   "id": "cbe941db-d83c-4d50-b1e0-bb7326947078",
   "metadata": {},
   "outputs": [
    {
     "data": {
      "image/png": "[encoded data removed]",
      "text/plain": [
       "<Figure size 640x480 with 1 Axes>"
      ]
     },
     "metadata": {},
     "output_type": "display_data"
    }
   ],
   "source": [
    "# lets see the target column in bar diagram\n",
    "data[\"Transported\"].value_counts().plot(kind=\"bar\",color=[\"pink\",\"lightblue\"])\n",
    "plt.xlabel(\"True = Tansnported, False = Not\")\n",
    "plt.ylabel(\"value\")\n",
    "plt.xticks(rotation=0);\n"
   ]
  },
  {
   "cell_type": "code",
   "execution_count": 6,
   "id": "6fac7c6d-6fb2-4814-88be-7585d164107f",
   "metadata": {},
   "outputs": [
    {
     "data": {
      "text/plain": [
       "HomePlanet\n",
       "Earth     4602\n",
       "Europa    2131\n",
       "Mars      1759\n",
       "Name: count, dtype: int64"
      ]
     },
     "execution_count": 6,
     "metadata": {},
     "output_type": "execute_result"
    }
   ],
   "source": [
    "data[\"HomePlanet\"].value_counts()"
   ]
  },
  {
   "cell_type": "code",
   "execution_count": 7,
   "id": "1c5b63f7-ca20-4eb4-92ce-053379da0d27",
   "metadata": {},
   "outputs": [
    {
     "data": {
      "text/plain": [
       "(array([0, 1, 2]),\n",
       " [Text(0, 0, 'Earth'), Text(1, 0, 'Europa'), Text(2, 0, 'Mars')])"
      ]
     },
     "execution_count": 7,
     "metadata": {},
     "output_type": "execute_result"
    },
    {
     "data": {
      "image/png": "[encoded data removed]",
      "text/plain": [
       "<Figure size 640x480 with 1 Axes>"
      ]
     },
     "metadata": {},
     "output_type": "display_data"
    }
   ],
   "source": [
    "data[\"HomePlanet\"].value_counts().plot(kind=\"bar\")\n",
    "plt.title(\"People and their home planet\")\n",
    "plt.xticks(rotation=0)"
   ]
  },
  {
   "cell_type": "code",
   "execution_count": null,
   "id": "6b034813-325b-4cb7-bbee-b2068ef07d51",
   "metadata": {},
   "outputs": [],
   "source": []
  },
  {
   "cell_type": "code",
   "execution_count": 8,
   "id": "c7b1b290-3e2b-441c-8016-fe19c0341aba",
   "metadata": {},
   "outputs": [
    {
     "name": "stdout",
     "output_type": "stream",
     "text": [
      "<class 'pandas.core.frame.DataFrame'>\n",
      "RangeIndex: 8693 entries, 0 to 8692\n",
      "Data columns (total 14 columns):\n",
      " #   Column        Non-Null Count  Dtype  \n",
      "---  ------        --------------  -----  \n",
      " 0   PassengerId   8693 non-null   object \n",
      " 1   HomePlanet    8492 non-null   object \n",
      " 2   CryoSleep     8476 non-null   object \n",
      " 3   Cabin         8494 non-null   object \n",
      " 4   Destination   8511 non-null   object \n",
      " 5   Age           8514 non-null   float64\n",
      " 6   VIP           8490 non-null   object \n",
      " 7   RoomService   8512 non-null   float64\n",
      " 8   FoodCourt     8510 non-null   float64\n",
      " 9   ShoppingMall  8485 non-null   float64\n",
      " 10  Spa           8510 non-null   float64\n",
      " 11  VRDeck        8505 non-null   float64\n",
      " 12  Name          8493 non-null   object \n",
      " 13  Transported   8693 non-null   bool   \n",
      "dtypes: bool(1), float64(6), object(7)\n",
      "memory usage: 891.5+ KB\n"
     ]
    }
   ],
   "source": [
    "data.info()\n"
   ]
  },
  {
   "cell_type": "code",
   "execution_count": 9,
   "id": "7b6b3859-d137-4dc3-9938-3f4d0daa559e",
   "metadata": {},
   "outputs": [
    {
     "data": {
      "text/plain": [
       "PassengerId       0\n",
       "HomePlanet      201\n",
       "CryoSleep       217\n",
       "Cabin           199\n",
       "Destination     182\n",
       "Age             179\n",
       "VIP             203\n",
       "RoomService     181\n",
       "FoodCourt       183\n",
       "ShoppingMall    208\n",
       "Spa             183\n",
       "VRDeck          188\n",
       "Name            200\n",
       "Transported       0\n",
       "dtype: int64"
      ]
     },
     "execution_count": 9,
     "metadata": {},
     "output_type": "execute_result"
    }
   ],
   "source": [
    "data.isna().sum()"
   ]
  },
  {
   "cell_type": "code",
   "execution_count": 10,
   "id": "78561eb2-12c1-4810-9546-7695cbd96f44",
   "metadata": {},
   "outputs": [
    {
     "data": {
      "text/plain": [
       "Cabin\n",
       "G/734/S     8\n",
       "G/109/P     7\n",
       "B/201/P     7\n",
       "G/1368/P    7\n",
       "G/981/S     7\n",
       "           ..\n",
       "G/556/P     1\n",
       "E/231/S     1\n",
       "G/545/S     1\n",
       "G/543/S     1\n",
       "F/947/P     1\n",
       "Name: count, Length: 6560, dtype: int64"
      ]
     },
     "execution_count": 10,
     "metadata": {},
     "output_type": "execute_result"
    }
   ],
   "source": [
    "data[\"Cabin\"].value_counts()    "
   ]
  },
  {
   "cell_type": "code",
   "execution_count": 11,
   "id": "a5c8fb52-7688-407e-8a2a-855cd79d3a3e",
   "metadata": {},
   "outputs": [
    {
     "data": {
      "text/plain": [
       "Cabin\n",
       "A/0/P     0.5\n",
       "A/0/S     0.0\n",
       "A/1/S     1.0\n",
       "A/10/P    0.0\n",
       "A/10/S    1.0\n",
       "         ... \n",
       "T/0/P     0.0\n",
       "T/1/P     0.0\n",
       "T/2/P     0.0\n",
       "T/2/S     0.0\n",
       "T/3/P     1.0\n",
       "Name: Transported, Length: 6560, dtype: float64"
      ]
     },
     "execution_count": 11,
     "metadata": {},
     "output_type": "execute_result"
    }
   ],
   "source": [
    "# now lets find the relationship between cabin and transportation\n",
    "data.groupby(\"Cabin\")[\"Transported\"].mean()"
   ]
  },
  {
   "cell_type": "code",
   "execution_count": 12,
   "id": "a72007ee-82fe-4d43-820a-bbb6e45087b5",
   "metadata": {},
   "outputs": [
    {
     "data": {
      "text/plain": [
       "Index(['PassengerId', 'HomePlanet', 'CryoSleep', 'Cabin', 'Destination', 'Age',\n",
       "       'VIP', 'RoomService', 'FoodCourt', 'ShoppingMall', 'Spa', 'VRDeck',\n",
       "       'Name', 'Transported'],\n",
       "      dtype='object')"
      ]
     },
     "execution_count": 12,
     "metadata": {},
     "output_type": "execute_result"
    }
   ],
   "source": [
    "data.columns"
   ]
  },
  {
   "cell_type": "code",
   "execution_count": 13,
   "id": "0c568e57-b3e9-4206-a71f-e5af790fea63",
   "metadata": {},
   "outputs": [
    {
     "data": {
      "image/png": "[encoded data removed]",
      "text/plain": [
       "<Figure size 640x480 with 1 Axes>"
      ]
     },
     "metadata": {},
     "output_type": "display_data"
    }
   ],
   "source": [
    "pd.crosstab(data[\"HomePlanet\"],data[\"Transported\"]).plot(kind=\"bar\")\n",
    "plt.xticks(rotation=0);"
   ]
  },
  {
   "cell_type": "code",
   "execution_count": 14,
   "id": "a48c0deb-4520-4af2-9a32-aa5280e3fab2",
   "metadata": {},
   "outputs": [
    {
     "data": {
      "text/plain": [
       "(array([ 591.,  649., 2089., 1976., 1350.,  893.,  536.,  294.,  106.,\n",
       "          30.]),\n",
       " array([ 0. ,  7.9, 15.8, 23.7, 31.6, 39.5, 47.4, 55.3, 63.2, 71.1, 79. ]),\n",
       " <BarContainer object of 10 artists>)"
      ]
     },
     "execution_count": 14,
     "metadata": {},
     "output_type": "execute_result"
    },
    {
     "data": {
      "image/png": "[encoded data removed]",
      "text/plain": [
       "<Figure size 640x480 with 1 Axes>"
      ]
     },
     "metadata": {},
     "output_type": "display_data"
    }
   ],
   "source": [
    "plt.hist(data[\"Age\"])"
   ]
  },
  {
   "cell_type": "code",
   "execution_count": 15,
   "id": "c3b22df1-4431-4035-b99d-07ab2f1c7e70",
   "metadata": {},
   "outputs": [
    {
     "data": {
      "text/plain": [
       "<Axes: xlabel='VIP'>"
      ]
     },
     "execution_count": 15,
     "metadata": {},
     "output_type": "execute_result"
    },
    {
     "data": {
      "image/png": "[encoded data removed]",
      "text/plain": [
       "<Figure size 640x480 with 1 Axes>"
      ]
     },
     "metadata": {},
     "output_type": "display_data"
    }
   ],
   "source": [
    "pd.crosstab(data[\"VIP\"],data[\"Transported\"]).plot(kind=\"bar\")"
   ]
  },
  {
   "cell_type": "code",
   "execution_count": 16,
   "id": "57fe0f29-41bb-4202-b865-64d8a4da5b17",
   "metadata": {},
   "outputs": [
    {
     "data": {
      "text/html": [
       "<div>\n",
       "<style scoped>\n",
       "    .dataframe tbody tr th:only-of-type {\n",
       "        vertical-align: middle;\n",
       "    }\n",
       "\n",
       "    .dataframe tbody tr th {\n",
       "        vertical-align: top;\n",
       "    }\n",
       "\n",
       "    .dataframe thead th {\n",
       "        text-align: right;\n",
       "    }\n",
       "</style>\n",
       "<table border=\"1\" class=\"dataframe\">\n",
       "  <thead>\n",
       "    <tr style=\"text-align: right;\">\n",
       "      <th></th>\n",
       "      <th>PassengerId</th>\n",
       "      <th>HomePlanet</th>\n",
       "      <th>CryoSleep</th>\n",
       "      <th>Cabin</th>\n",
       "      <th>Destination</th>\n",
       "      <th>Age</th>\n",
       "      <th>VIP</th>\n",
       "      <th>RoomService</th>\n",
       "      <th>FoodCourt</th>\n",
       "      <th>ShoppingMall</th>\n",
       "      <th>Spa</th>\n",
       "      <th>VRDeck</th>\n",
       "      <th>Name</th>\n",
       "      <th>Transported</th>\n",
       "    </tr>\n",
       "  </thead>\n",
       "  <tbody>\n",
       "    <tr>\n",
       "      <th>0</th>\n",
       "      <td>0001_01</td>\n",
       "      <td>Europa</td>\n",
       "      <td>False</td>\n",
       "      <td>B/0/P</td>\n",
       "      <td>TRAPPIST-1e</td>\n",
       "      <td>39.0</td>\n",
       "      <td>False</td>\n",
       "      <td>0.0</td>\n",
       "      <td>0.0</td>\n",
       "      <td>0.0</td>\n",
       "      <td>0.0</td>\n",
       "      <td>0.0</td>\n",
       "      <td>Maham Ofracculy</td>\n",
       "      <td>False</td>\n",
       "    </tr>\n",
       "    <tr>\n",
       "      <th>1</th>\n",
       "      <td>0002_01</td>\n",
       "      <td>Earth</td>\n",
       "      <td>False</td>\n",
       "      <td>F/0/S</td>\n",
       "      <td>TRAPPIST-1e</td>\n",
       "      <td>24.0</td>\n",
       "      <td>False</td>\n",
       "      <td>109.0</td>\n",
       "      <td>9.0</td>\n",
       "      <td>25.0</td>\n",
       "      <td>549.0</td>\n",
       "      <td>44.0</td>\n",
       "      <td>Juanna Vines</td>\n",
       "      <td>True</td>\n",
       "    </tr>\n",
       "    <tr>\n",
       "      <th>2</th>\n",
       "      <td>0003_01</td>\n",
       "      <td>Europa</td>\n",
       "      <td>False</td>\n",
       "      <td>A/0/S</td>\n",
       "      <td>TRAPPIST-1e</td>\n",
       "      <td>58.0</td>\n",
       "      <td>True</td>\n",
       "      <td>43.0</td>\n",
       "      <td>3576.0</td>\n",
       "      <td>0.0</td>\n",
       "      <td>6715.0</td>\n",
       "      <td>49.0</td>\n",
       "      <td>Altark Susent</td>\n",
       "      <td>False</td>\n",
       "    </tr>\n",
       "    <tr>\n",
       "      <th>3</th>\n",
       "      <td>0003_02</td>\n",
       "      <td>Europa</td>\n",
       "      <td>False</td>\n",
       "      <td>A/0/S</td>\n",
       "      <td>TRAPPIST-1e</td>\n",
       "      <td>33.0</td>\n",
       "      <td>False</td>\n",
       "      <td>0.0</td>\n",
       "      <td>1283.0</td>\n",
       "      <td>371.0</td>\n",
       "      <td>3329.0</td>\n",
       "      <td>193.0</td>\n",
       "      <td>Solam Susent</td>\n",
       "      <td>False</td>\n",
       "    </tr>\n",
       "    <tr>\n",
       "      <th>4</th>\n",
       "      <td>0004_01</td>\n",
       "      <td>Earth</td>\n",
       "      <td>False</td>\n",
       "      <td>F/1/S</td>\n",
       "      <td>TRAPPIST-1e</td>\n",
       "      <td>16.0</td>\n",
       "      <td>False</td>\n",
       "      <td>303.0</td>\n",
       "      <td>70.0</td>\n",
       "      <td>151.0</td>\n",
       "      <td>565.0</td>\n",
       "      <td>2.0</td>\n",
       "      <td>Willy Santantines</td>\n",
       "      <td>True</td>\n",
       "    </tr>\n",
       "  </tbody>\n",
       "</table>\n",
       "</div>"
      ],
      "text/plain": [
       "  PassengerId HomePlanet CryoSleep  Cabin  Destination   Age    VIP  \\\n",
       "0     0001_01     Europa     False  B/0/P  TRAPPIST-1e  39.0  False   \n",
       "1     0002_01      Earth     False  F/0/S  TRAPPIST-1e  24.0  False   \n",
       "2     0003_01     Europa     False  A/0/S  TRAPPIST-1e  58.0   True   \n",
       "3     0003_02     Europa     False  A/0/S  TRAPPIST-1e  33.0  False   \n",
       "4     0004_01      Earth     False  F/1/S  TRAPPIST-1e  16.0  False   \n",
       "\n",
       "   RoomService  FoodCourt  ShoppingMall     Spa  VRDeck               Name  \\\n",
       "0          0.0        0.0           0.0     0.0     0.0    Maham Ofracculy   \n",
       "1        109.0        9.0          25.0   549.0    44.0       Juanna Vines   \n",
       "2         43.0     3576.0           0.0  6715.0    49.0      Altark Susent   \n",
       "3          0.0     1283.0         371.0  3329.0   193.0       Solam Susent   \n",
       "4        303.0       70.0         151.0   565.0     2.0  Willy Santantines   \n",
       "\n",
       "   Transported  \n",
       "0        False  \n",
       "1         True  \n",
       "2        False  \n",
       "3        False  \n",
       "4         True  "
      ]
     },
     "execution_count": 16,
     "metadata": {},
     "output_type": "execute_result"
    }
   ],
   "source": [
    "data.head()"
   ]
  },
  {
   "cell_type": "code",
   "execution_count": 17,
   "id": "67cf19fb-47f1-4cf3-9fa3-2d1d3891b59f",
   "metadata": {},
   "outputs": [
    {
     "data": {
      "text/plain": [
       "VIP\n",
       "False    8291\n",
       "True      199\n",
       "Name: count, dtype: int64"
      ]
     },
     "execution_count": 17,
     "metadata": {},
     "output_type": "execute_result"
    }
   ],
   "source": [
    "data[\"VIP\"].value_counts()"
   ]
  },
  {
   "cell_type": "code",
   "execution_count": 21,
   "id": "59a23d54-c1f8-4c97-803c-e7282c2384b0",
   "metadata": {},
   "outputs": [
    {
     "data": {
      "image/png": "[encoded data removed]",
      "text/plain": [
       "<Figure size 640x480 with 1 Axes>"
      ]
     },
     "metadata": {},
     "output_type": "display_data"
    }
   ],
   "source": [
    "data.groupby(\"VIP\")[\"Transported\"].mean().plot(kind=\"bar\",color=[\"pink\",\"lightblue\"])\n",
    "plt.xlabel(\"VIP True = VIP, False = NO VIP\")\n",
    "plt.ylabel(\"Transported\")\n",
    "plt.xticks(rotation=False);"
   ]
  },
  {
   "cell_type": "code",
   "execution_count": 19,
   "id": "a9692be2-e31f-4622-a618-dedd49b2dabc",
   "metadata": {},
   "outputs": [],
   "source": [
    "# data.groupby([\"Deck\", \"CabinNumber\", \"CabinSide\"])[\"Transported\"].value_counts()\n"
   ]
  },
  {
   "cell_type": "code",
   "execution_count": 26,
   "id": "d555e520-0238-4f8c-8527-9547740f1853",
   "metadata": {},
   "outputs": [
    {
     "data": {
      "text/plain": [
       "Index(['PassengerId', 'HomePlanet', 'CryoSleep', 'Cabin', 'Destination', 'Age',\n",
       "       'VIP', 'RoomService', 'FoodCourt', 'ShoppingMall', 'Spa', 'VRDeck',\n",
       "       'Name', 'Transported'],\n",
       "      dtype='object')"
      ]
     },
     "execution_count": 26,
     "metadata": {},
     "output_type": "execute_result"
    }
   ],
   "source": [
    "data.columns"
   ]
  },
  {
   "cell_type": "code",
   "execution_count": 31,
   "id": "1171e47f-9be1-4fd7-a286-fcc38f2df9e6",
   "metadata": {},
   "outputs": [
    {
     "data": {
      "text/plain": [
       "(array([0, 1, 2]),\n",
       " [Text(0, 0, '55 Cancri e'),\n",
       "  Text(1, 0, 'PSO J318.5-22'),\n",
       "  Text(2, 0, 'TRAPPIST-1e')])"
      ]
     },
     "execution_count": 31,
     "metadata": {},
     "output_type": "execute_result"
    },
    {
     "data": {
      "image/png": "[encoded data removed]",
      "text/plain": [
       "<Figure size 640x480 with 1 Axes>"
      ]
     },
     "metadata": {},
     "output_type": "display_data"
    }
   ],
   "source": [
    "pd.crosstab(data[\"Destination\"],data[\"Transported\"]).plot(kind=\"bar\")\n",
    "plt.xlabel(\"Destination Planet\")\n",
    "plt.ylabel(\"NO of passengers transported\")\n",
    "plt.xticks(rotation=0)"
   ]
  },
  {
   "cell_type": "code",
   "execution_count": 34,
   "id": "a1821cf7-01c6-4de1-a89f-0e6864783d11",
   "metadata": {},
   "outputs": [
    {
     "data": {
      "text/plain": [
       "Destination\n",
       "TRAPPIST-1e      5915\n",
       "55 Cancri e      1800\n",
       "PSO J318.5-22     796\n",
       "Name: count, dtype: int64"
      ]
     },
     "execution_count": 34,
     "metadata": {},
     "output_type": "execute_result"
    }
   ],
   "source": [
    "data[\"Destination\"].value_counts()"
   ]
  },
  {
   "cell_type": "markdown",
   "id": "66f5b622-faa6-424e-b34a-71fcbb8680e9",
   "metadata": {},
   "source": [
    "# Now we are going to model the data"
   ]
  },
  {
   "cell_type": "code",
   "execution_count": 36,
   "id": "ffe5aa20-36ca-4077-a920-1ad1b772dda1",
   "metadata": {},
   "outputs": [],
   "source": [
    "# preprocessing function (convert the object into pandas category and fill the mising values)\n",
    "def preprocessor(data):\n",
    "    for labels,contents in data.items():\n",
    "        if pd.api.types.is_numeric_dtype(contents):\n",
    "            if pd.isnull(contents).sum():\n",
    "                data[labels+\"_Was_Missing\"] = pd.isnull(contents)\n",
    "                data[labels] = contents.fillna(contents.median())\n",
    "        if not pd.api.types.is_numeric_dtype(contents):\n",
    "            data[labels+\"_Was_Missing\"] = pd.isnull(contents)\n",
    "            data[labels] = pd.Categorical(contents).codes + 1\n",
    "    return data"
   ]
  },
  {
   "cell_type": "code",
   "execution_count": 38,
   "id": "c35bd418-e4d2-4381-896a-820bf4b2c38c",
   "metadata": {},
   "outputs": [
    {
     "data": {
      "text/plain": [
       "PassengerId       0\n",
       "HomePlanet      201\n",
       "CryoSleep       217\n",
       "Cabin           199\n",
       "Destination     182\n",
       "Age             179\n",
       "VIP             203\n",
       "RoomService     181\n",
       "FoodCourt       183\n",
       "ShoppingMall    208\n",
       "Spa             183\n",
       "VRDeck          188\n",
       "Name            200\n",
       "Transported       0\n",
       "dtype: int64"
      ]
     },
     "execution_count": 38,
     "metadata": {},
     "output_type": "execute_result"
    }
   ],
   "source": [
    "data.isna().sum()"
   ]
  },
  {
   "cell_type": "code",
   "execution_count": 39,
   "id": "fc6f98d2-f94e-484e-b84e-a230a326dc6c",
   "metadata": {},
   "outputs": [
    {
     "name": "stdout",
     "output_type": "stream",
     "text": [
      "<class 'pandas.core.frame.DataFrame'>\n",
      "RangeIndex: 8693 entries, 0 to 8692\n",
      "Data columns (total 14 columns):\n",
      " #   Column        Non-Null Count  Dtype  \n",
      "---  ------        --------------  -----  \n",
      " 0   PassengerId   8693 non-null   object \n",
      " 1   HomePlanet    8492 non-null   object \n",
      " 2   CryoSleep     8476 non-null   object \n",
      " 3   Cabin         8494 non-null   object \n",
      " 4   Destination   8511 non-null   object \n",
      " 5   Age           8514 non-null   float64\n",
      " 6   VIP           8490 non-null   object \n",
      " 7   RoomService   8512 non-null   float64\n",
      " 8   FoodCourt     8510 non-null   float64\n",
      " 9   ShoppingMall  8485 non-null   float64\n",
      " 10  Spa           8510 non-null   float64\n",
      " 11  VRDeck        8505 non-null   float64\n",
      " 12  Name          8493 non-null   object \n",
      " 13  Transported   8693 non-null   bool   \n",
      "dtypes: bool(1), float64(6), object(7)\n",
      "memory usage: 891.5+ KB\n"
     ]
    }
   ],
   "source": [
    "data.info()"
   ]
  },
  {
   "cell_type": "code",
   "execution_count": 40,
   "id": "c8d9a3c5-ba10-4e51-a9e9-412533649531",
   "metadata": {},
   "outputs": [],
   "source": [
    "# since we are going to manipulate our data we will br using tmp_data to procees\n",
    "tmp_data = preprocessor(data)"
   ]
  },
  {
   "cell_type": "code",
   "execution_count": 41,
   "id": "3846461b-67aa-49f0-b84e-9efd682e8567",
   "metadata": {},
   "outputs": [
    {
     "data": {
      "text/html": [
       "<div>\n",
       "<style scoped>\n",
       "    .dataframe tbody tr th:only-of-type {\n",
       "        vertical-align: middle;\n",
       "    }\n",
       "\n",
       "    .dataframe tbody tr th {\n",
       "        vertical-align: top;\n",
       "    }\n",
       "\n",
       "    .dataframe thead th {\n",
       "        text-align: right;\n",
       "    }\n",
       "</style>\n",
       "<table border=\"1\" class=\"dataframe\">\n",
       "  <thead>\n",
       "    <tr style=\"text-align: right;\">\n",
       "      <th></th>\n",
       "      <th>PassengerId</th>\n",
       "      <th>HomePlanet</th>\n",
       "      <th>CryoSleep</th>\n",
       "      <th>Cabin</th>\n",
       "      <th>Destination</th>\n",
       "      <th>Age</th>\n",
       "      <th>VIP</th>\n",
       "      <th>RoomService</th>\n",
       "      <th>FoodCourt</th>\n",
       "      <th>ShoppingMall</th>\n",
       "      <th>...</th>\n",
       "      <th>Cabin_Was_Missing</th>\n",
       "      <th>Destination_Was_Missing</th>\n",
       "      <th>Age_Was_Missing</th>\n",
       "      <th>VIP_Was_Missing</th>\n",
       "      <th>RoomService_Was_Missing</th>\n",
       "      <th>FoodCourt_Was_Missing</th>\n",
       "      <th>ShoppingMall_Was_Missing</th>\n",
       "      <th>Spa_Was_Missing</th>\n",
       "      <th>VRDeck_Was_Missing</th>\n",
       "      <th>Name_Was_Missing</th>\n",
       "    </tr>\n",
       "  </thead>\n",
       "  <tbody>\n",
       "    <tr>\n",
       "      <th>0</th>\n",
       "      <td>1</td>\n",
       "      <td>2</td>\n",
       "      <td>1</td>\n",
       "      <td>150</td>\n",
       "      <td>3</td>\n",
       "      <td>39.0</td>\n",
       "      <td>1</td>\n",
       "      <td>0.0</td>\n",
       "      <td>0.0</td>\n",
       "      <td>0.0</td>\n",
       "      <td>...</td>\n",
       "      <td>False</td>\n",
       "      <td>False</td>\n",
       "      <td>False</td>\n",
       "      <td>False</td>\n",
       "      <td>False</td>\n",
       "      <td>False</td>\n",
       "      <td>False</td>\n",
       "      <td>False</td>\n",
       "      <td>False</td>\n",
       "      <td>False</td>\n",
       "    </tr>\n",
       "    <tr>\n",
       "      <th>1</th>\n",
       "      <td>2</td>\n",
       "      <td>1</td>\n",
       "      <td>1</td>\n",
       "      <td>2185</td>\n",
       "      <td>3</td>\n",
       "      <td>24.0</td>\n",
       "      <td>1</td>\n",
       "      <td>109.0</td>\n",
       "      <td>9.0</td>\n",
       "      <td>25.0</td>\n",
       "      <td>...</td>\n",
       "      <td>False</td>\n",
       "      <td>False</td>\n",
       "      <td>False</td>\n",
       "      <td>False</td>\n",
       "      <td>False</td>\n",
       "      <td>False</td>\n",
       "      <td>False</td>\n",
       "      <td>False</td>\n",
       "      <td>False</td>\n",
       "      <td>False</td>\n",
       "    </tr>\n",
       "    <tr>\n",
       "      <th>2</th>\n",
       "      <td>3</td>\n",
       "      <td>2</td>\n",
       "      <td>1</td>\n",
       "      <td>2</td>\n",
       "      <td>3</td>\n",
       "      <td>58.0</td>\n",
       "      <td>2</td>\n",
       "      <td>43.0</td>\n",
       "      <td>3576.0</td>\n",
       "      <td>0.0</td>\n",
       "      <td>...</td>\n",
       "      <td>False</td>\n",
       "      <td>False</td>\n",
       "      <td>False</td>\n",
       "      <td>False</td>\n",
       "      <td>False</td>\n",
       "      <td>False</td>\n",
       "      <td>False</td>\n",
       "      <td>False</td>\n",
       "      <td>False</td>\n",
       "      <td>False</td>\n",
       "    </tr>\n",
       "    <tr>\n",
       "      <th>3</th>\n",
       "      <td>4</td>\n",
       "      <td>2</td>\n",
       "      <td>1</td>\n",
       "      <td>2</td>\n",
       "      <td>3</td>\n",
       "      <td>33.0</td>\n",
       "      <td>1</td>\n",
       "      <td>0.0</td>\n",
       "      <td>1283.0</td>\n",
       "      <td>371.0</td>\n",
       "      <td>...</td>\n",
       "      <td>False</td>\n",
       "      <td>False</td>\n",
       "      <td>False</td>\n",
       "      <td>False</td>\n",
       "      <td>False</td>\n",
       "      <td>False</td>\n",
       "      <td>False</td>\n",
       "      <td>False</td>\n",
       "      <td>False</td>\n",
       "      <td>False</td>\n",
       "    </tr>\n",
       "    <tr>\n",
       "      <th>4</th>\n",
       "      <td>5</td>\n",
       "      <td>1</td>\n",
       "      <td>1</td>\n",
       "      <td>2187</td>\n",
       "      <td>3</td>\n",
       "      <td>16.0</td>\n",
       "      <td>1</td>\n",
       "      <td>303.0</td>\n",
       "      <td>70.0</td>\n",
       "      <td>151.0</td>\n",
       "      <td>...</td>\n",
       "      <td>False</td>\n",
       "      <td>False</td>\n",
       "      <td>False</td>\n",
       "      <td>False</td>\n",
       "      <td>False</td>\n",
       "      <td>False</td>\n",
       "      <td>False</td>\n",
       "      <td>False</td>\n",
       "      <td>False</td>\n",
       "      <td>False</td>\n",
       "    </tr>\n",
       "  </tbody>\n",
       "</table>\n",
       "<p>5 rows × 27 columns</p>\n",
       "</div>"
      ],
      "text/plain": [
       "   PassengerId  HomePlanet  CryoSleep  Cabin  Destination   Age  VIP  \\\n",
       "0            1           2          1    150            3  39.0    1   \n",
       "1            2           1          1   2185            3  24.0    1   \n",
       "2            3           2          1      2            3  58.0    2   \n",
       "3            4           2          1      2            3  33.0    1   \n",
       "4            5           1          1   2187            3  16.0    1   \n",
       "\n",
       "   RoomService  FoodCourt  ShoppingMall  ...  Cabin_Was_Missing  \\\n",
       "0          0.0        0.0           0.0  ...              False   \n",
       "1        109.0        9.0          25.0  ...              False   \n",
       "2         43.0     3576.0           0.0  ...              False   \n",
       "3          0.0     1283.0         371.0  ...              False   \n",
       "4        303.0       70.0         151.0  ...              False   \n",
       "\n",
       "   Destination_Was_Missing  Age_Was_Missing  VIP_Was_Missing  \\\n",
       "0                    False            False            False   \n",
       "1                    False            False            False   \n",
       "2                    False            False            False   \n",
       "3                    False            False            False   \n",
       "4                    False            False            False   \n",
       "\n",
       "   RoomService_Was_Missing  FoodCourt_Was_Missing  ShoppingMall_Was_Missing  \\\n",
       "0                    False                  False                     False   \n",
       "1                    False                  False                     False   \n",
       "2                    False                  False                     False   \n",
       "3                    False                  False                     False   \n",
       "4                    False                  False                     False   \n",
       "\n",
       "   Spa_Was_Missing  VRDeck_Was_Missing  Name_Was_Missing  \n",
       "0            False               False             False  \n",
       "1            False               False             False  \n",
       "2            False               False             False  \n",
       "3            False               False             False  \n",
       "4            False               False             False  \n",
       "\n",
       "[5 rows x 27 columns]"
      ]
     },
     "execution_count": 41,
     "metadata": {},
     "output_type": "execute_result"
    }
   ],
   "source": [
    "tmp_data.head()"
   ]
  },
  {
   "cell_type": "code",
   "execution_count": 42,
   "id": "055af4d8-c40d-4794-a3dd-b62893229651",
   "metadata": {},
   "outputs": [
    {
     "name": "stdout",
     "output_type": "stream",
     "text": [
      "<class 'pandas.core.frame.DataFrame'>\n",
      "RangeIndex: 8693 entries, 0 to 8692\n",
      "Data columns (total 27 columns):\n",
      " #   Column                    Non-Null Count  Dtype  \n",
      "---  ------                    --------------  -----  \n",
      " 0   PassengerId               8693 non-null   int16  \n",
      " 1   HomePlanet                8693 non-null   int8   \n",
      " 2   CryoSleep                 8693 non-null   int8   \n",
      " 3   Cabin                     8693 non-null   int16  \n",
      " 4   Destination               8693 non-null   int8   \n",
      " 5   Age                       8693 non-null   float64\n",
      " 6   VIP                       8693 non-null   int8   \n",
      " 7   RoomService               8693 non-null   float64\n",
      " 8   FoodCourt                 8693 non-null   float64\n",
      " 9   ShoppingMall              8693 non-null   float64\n",
      " 10  Spa                       8693 non-null   float64\n",
      " 11  VRDeck                    8693 non-null   float64\n",
      " 12  Name                      8693 non-null   int16  \n",
      " 13  Transported               8693 non-null   bool   \n",
      " 14  PassengerId_Was_Missing   8693 non-null   bool   \n",
      " 15  HomePlanet_Was_Missing    8693 non-null   bool   \n",
      " 16  CryoSleep_Was_Missing     8693 non-null   bool   \n",
      " 17  Cabin_Was_Missing         8693 non-null   bool   \n",
      " 18  Destination_Was_Missing   8693 non-null   bool   \n",
      " 19  Age_Was_Missing           8693 non-null   bool   \n",
      " 20  VIP_Was_Missing           8693 non-null   bool   \n",
      " 21  RoomService_Was_Missing   8693 non-null   bool   \n",
      " 22  FoodCourt_Was_Missing     8693 non-null   bool   \n",
      " 23  ShoppingMall_Was_Missing  8693 non-null   bool   \n",
      " 24  Spa_Was_Missing           8693 non-null   bool   \n",
      " 25  VRDeck_Was_Missing        8693 non-null   bool   \n",
      " 26  Name_Was_Missing          8693 non-null   bool   \n",
      "dtypes: bool(14), float64(6), int16(3), int8(4)\n",
      "memory usage: 611.4 KB\n"
     ]
    }
   ],
   "source": [
    "tmp_data.info()"
   ]
  },
  {
   "cell_type": "code",
   "execution_count": 43,
   "id": "5eb2cebe-9d8f-4a67-b932-f47d6c1ff177",
   "metadata": {},
   "outputs": [
    {
     "data": {
      "text/plain": [
       "PassengerId                 0\n",
       "HomePlanet                  0\n",
       "CryoSleep                   0\n",
       "Cabin                       0\n",
       "Destination                 0\n",
       "Age                         0\n",
       "VIP                         0\n",
       "RoomService                 0\n",
       "FoodCourt                   0\n",
       "ShoppingMall                0\n",
       "Spa                         0\n",
       "VRDeck                      0\n",
       "Name                        0\n",
       "Transported                 0\n",
       "PassengerId_Was_Missing     0\n",
       "HomePlanet_Was_Missing      0\n",
       "CryoSleep_Was_Missing       0\n",
       "Cabin_Was_Missing           0\n",
       "Destination_Was_Missing     0\n",
       "Age_Was_Missing             0\n",
       "VIP_Was_Missing             0\n",
       "RoomService_Was_Missing     0\n",
       "FoodCourt_Was_Missing       0\n",
       "ShoppingMall_Was_Missing    0\n",
       "Spa_Was_Missing             0\n",
       "VRDeck_Was_Missing          0\n",
       "Name_Was_Missing            0\n",
       "dtype: int64"
      ]
     },
     "execution_count": 43,
     "metadata": {},
     "output_type": "execute_result"
    }
   ],
   "source": [
    "tmp_data.isna().sum()"
   ]
  },
  {
   "cell_type": "code",
   "execution_count": 45,
   "id": "61347298-186f-4c01-933f-e598c3a3474b",
   "metadata": {},
   "outputs": [],
   "source": [
    "# lets split the data into x and y (feature and label matrix)\n",
    "x = tmp_data.drop(\"Transported\",axis=1)\n",
    "y = tmp_data[\"Transported\"]\n",
    "\n",
    "# split the data into train and test split\n",
    "x_train,x_test,y_train,y_test = train_test_split(x,y,test_size=0.2)"
   ]
  },
  {
   "cell_type": "code",
   "execution_count": 63,
   "id": "53a6048b-10b2-4bb3-8fd7-0a7d5cb9e501",
   "metadata": {},
   "outputs": [
    {
     "name": "stderr",
     "output_type": "stream",
     "text": [
      "C:\\Users\\Dell\\Desktop\\ml_ai\\Competations\\Spaceship\\env\\Lib\\site-packages\\sklearn\\linear_model\\_logistic.py:465: ConvergenceWarning: lbfgs failed to converge (status=1):\n",
      "STOP: TOTAL NO. OF ITERATIONS REACHED LIMIT.\n",
      "\n",
      "Increase the number of iterations (max_iter) or scale the data as shown in:\n",
      "    https://scikit-learn.org/stable/modules/preprocessing.html\n",
      "Please also refer to the documentation for alternative solver options:\n",
      "    https://scikit-learn.org/stable/modules/linear_model.html#logistic-regression\n",
      "  n_iter_i = _check_optimize_result(\n"
     ]
    },
    {
     "data": {
      "text/plain": [
       "{'Random Forest Classifier': 0.7883841288096607,\n",
       " 'Logistic Regressor': 0.7786083956296722}"
      ]
     },
     "execution_count": 63,
     "metadata": {},
     "output_type": "execute_result"
    }
   ],
   "source": [
    "# lets import the model and implement it as a function\n",
    "models = {\n",
    "    \"Random Forest Classifier\" : RandomForestClassifier(),\n",
    "    \"Logistic Regressor\": LogisticRegression()\n",
    "}\n",
    "\n",
    "def fit_n_score(x_train,x_test,y_train,y_test):\n",
    "    # setup the ramdom seed\n",
    "    np.random.seed(42)\n",
    "\n",
    "    # instinciate empty model score dict\n",
    "    model_scores ={}\n",
    "\n",
    "    # loop through models\n",
    "    for name,model in models.items():\n",
    "        # fit the model\n",
    "        model.fit(x_train,y_train)\n",
    "\n",
    "        # score the model\n",
    "        model_scores[name] = model.score(x_test,y_test)\n",
    "    return model_scores\n",
    "\n",
    "scores = fit_n_score(x_train,x_test,y_train,y_test)\n",
    "scores"
   ]
  },
  {
   "cell_type": "code",
   "execution_count": 64,
   "id": "6f827223-1936-428f-91c1-e7caac695667",
   "metadata": {},
   "outputs": [],
   "source": [
    "model_scores = pd.DataFrame(scores,index=[\"Accuracy\"])"
   ]
  },
  {
   "cell_type": "code",
   "execution_count": 65,
   "id": "392e3701-dc6e-4df0-a3dd-e15084e80d7e",
   "metadata": {},
   "outputs": [
    {
     "data": {
      "image/png": "[encoded data removed]",
      "text/plain": [
       "<Figure size 640x480 with 1 Axes>"
      ]
     },
     "metadata": {},
     "output_type": "display_data"
    }
   ],
   "source": [
    "model_scores.T.plot(kind=\"bar\")\n",
    "plt.xticks(rotation=0);"
   ]
  },
  {
   "cell_type": "code",
   "execution_count": 66,
   "id": "c2cf932a-77b7-4d32-bb4e-f46b5256c4fc",
   "metadata": {},
   "outputs": [
    {
     "data": {
      "text/plain": [
       "8693"
      ]
     },
     "execution_count": 66,
     "metadata": {},
     "output_type": "execute_result"
    }
   ],
   "source": [
    "len(tmp_data)"
   ]
  },
  {
   "cell_type": "code",
   "execution_count": 67,
   "id": "37262568-ed84-4962-a70f-3fac135b98cf",
   "metadata": {},
   "outputs": [],
   "source": [
    "# lets configure each model and tune them using Random Search cv and grid_search cv\n",
    "LogisticRegression()\n",
    "rf_grid = {\n",
    "    \"n_estimators\" : np.arange(10,1000,50),\n",
    "    \"max_depth\" : [None,3,5,10],\n",
    "    \"min_samples_split\" : np.arange(2,20,2),\n",
    "    \"min_samples_leaf\" : np.arange(1,20,2)\n",
    "}\n",
    "\n",
    "log_reg_grid = {\n",
    "    \"C\" : np.logspace(-4,4,20),\n",
    "    \"solver\" : [\"liblinear\",\"lbfgs\"]\n",
    "}\n",
    "\n"
   ]
  },
  {
   "cell_type": "code",
   "execution_count": 73,
   "id": "6836f12d-04dd-4e0a-a6ca-b558c35f1f91",
   "metadata": {},
   "outputs": [
    {
     "name": "stdout",
     "output_type": "stream",
     "text": [
      "Fitting 5 folds for each of 20 candidates, totalling 100 fits\n"
     ]
    },
    {
     "data": {
      "text/plain": [
       "{'n_estimators': np.int64(210),\n",
       " 'min_samples_split': np.int64(6),\n",
       " 'min_samples_leaf': np.int64(5),\n",
       " 'max_depth': None}"
      ]
     },
     "execution_count": 73,
     "metadata": {},
     "output_type": "execute_result"
    }
   ],
   "source": [
    "# lets tune each model using random search cv\n",
    "# function to tune RandomForestClassifier using Random Search CV\n",
    "def Random_forest_tune(model,grid,iteration,verbose):\n",
    "    rs_rf_grid = RandomizedSearchCV(estimator=model,param_distributions=grid,n_iter=iteration,verbose=verbose,n_jobs=-1)\n",
    "    rs_rf_grid.fit(x_train,y_train)\n",
    "    return rs_rf_grid.best_params_\n",
    "\n",
    "Random_forest_best_params = Random_forest_tune(RandomForestClassifier(),rf_grid,20,True)\n",
    "Random_forest_best_params"
   ]
  },
  {
   "cell_type": "code",
   "execution_count": 79,
   "id": "512d949a-e798-401b-8edb-e829649e68ab",
   "metadata": {},
   "outputs": [
    {
     "name": "stdout",
     "output_type": "stream",
     "text": [
      "Fitting 5 folds for each of 128 candidates, totalling 640 fits\n"
     ]
    },
    {
     "data": {
      "text/plain": [
       "{'max_depth': None,\n",
       " 'min_samples_leaf': 7,\n",
       " 'min_samples_split': 8,\n",
       " 'n_estimators': 200}"
      ]
     },
     "execution_count": 79,
     "metadata": {},
     "output_type": "execute_result"
    }
   ],
   "source": [
    "# now we are going to use grid search cv\n",
    "rf_new_grid_param = {\n",
    "    \"n_estimators\" : [200,210,220,250],\n",
    "    \"min_samples_split\":[2,4,6,8],\n",
    "    \"min_samples_leaf\":[3,5,7,10],\n",
    "    \"max_depth\":[None,3]\n",
    "}\n",
    "\n",
    "grid_search = GridSearchCV(estimator=RandomForestClassifier(),param_grid=rf_new_grid_param,cv=5,n_jobs=-1,verbose=True)\n",
    "grid_search.fit(x_train,y_train)\n",
    "grid_search.best_params_"
   ]
  },
  {
   "cell_type": "code",
   "execution_count": 78,
   "id": "319cc2e4-5804-4d5c-9703-c5a2708ea4a4",
   "metadata": {},
   "outputs": [
    {
     "name": "stdout",
     "output_type": "stream",
     "text": [
      "Fitting 5 folds for each of 20 candidates, totalling 100 fits\n"
     ]
    },
    {
     "data": {
      "text/plain": [
       "{'solver': 'liblinear', 'C': np.float64(0.004832930238571752)}"
      ]
     },
     "execution_count": 78,
     "metadata": {},
     "output_type": "execute_result"
    }
   ],
   "source": [
    "# lets tune each model using random search cv\n",
    "# function to tune LogisticRegressor using Random Search CV\n",
    "def logistic_model_tune(model,grid,iteration,verbose):\n",
    "    rs_rf_grid = RandomizedSearchCV(estimator=model,param_distributions=grid,n_iter=iteration,verbose=verbose,n_jobs=-1)\n",
    "    rs_rf_grid.fit(x_train,y_train)\n",
    "    return rs_rf_grid.best_params_\n",
    "\n",
    "Random_forest_best_params = logistic_model_tune(LogisticRegression(),log_reg_grid,20,True)\n",
    "Random_forest_best_params"
   ]
  },
  {
   "cell_type": "code",
   "execution_count": 85,
   "id": "bb3cd017-1fdc-4c19-bba5-e4d23adc7963",
   "metadata": {},
   "outputs": [
    {
     "name": "stdout",
     "output_type": "stream",
     "text": [
      "Fitting 5 folds for each of 1 candidates, totalling 5 fits\n"
     ]
    },
    {
     "data": {
      "text/plain": [
       "{'C': 0.004832930238571752, 'solver': 'liblinear'}"
      ]
     },
     "execution_count": 85,
     "metadata": {},
     "output_type": "execute_result"
    }
   ],
   "source": [
    "logistic_regressor_grid = {\n",
    "    \"C\" : [0.004832930238571752],\n",
    "    \"solver\" : [\"liblinear\"]\n",
    "}\n",
    "\n",
    "\n",
    "logistic_grid = GridSearchCV(estimator=LogisticRegression(),param_grid=logistic_regressor_grid,verbose=True)\n",
    "logistic_grid.fit(x_train,y_train)\n",
    "logistic_grid.best_params_"
   ]
  },
  {
   "cell_type": "code",
   "execution_count": 81,
   "id": "9cd81f5c-2231-459a-ab38-567e675cdacb",
   "metadata": {},
   "outputs": [
    {
     "data": {
      "text/plain": [
       "0.7998849913743531"
      ]
     },
     "execution_count": 81,
     "metadata": {},
     "output_type": "execute_result"
    }
   ],
   "source": [
    "# ideal random forest model\n",
    "clf = RandomForestClassifier(n_estimators=200,min_samples_split=8,min_samples_leaf=7,max_depth=None)\n",
    "clf.fit(x_train,y_train)\n",
    "clf.score(x_test,y_test)"
   ]
  },
  {
   "cell_type": "code",
   "execution_count": 87,
   "id": "14e18e4c-0753-42d6-8ec4-c277fb97fcfc",
   "metadata": {},
   "outputs": [
    {
     "data": {
      "text/plain": [
       "0.7906843013225991"
      ]
     },
     "execution_count": 87,
     "metadata": {},
     "output_type": "execute_result"
    }
   ],
   "source": [
    "# ideal logistic regressor\n",
    "log_clf = LogisticRegression(C=0.004832930238571752,solver=\"liblinear\")\n",
    "log_clf.fit(x_train,y_train)\n",
    "log_clf.score(x_test,y_test)\n",
    "\n"
   ]
  },
  {
   "cell_type": "code",
   "execution_count": 88,
   "id": "636a23e1-3fd7-4c2b-a195-02f45ff411fe",
   "metadata": {},
   "outputs": [],
   "source": [
    "# since both the model are about 80% i am going to go with Random Forest Classifier"
   ]
  },
  {
   "cell_type": "code",
   "execution_count": 89,
   "id": "095487e0-b9aa-4915-84f3-b6633a33c423",
   "metadata": {},
   "outputs": [],
   "source": [
    "# lets import the test data\n",
    "test_data = pd.read_csv(\"test.csv\")"
   ]
  },
  {
   "cell_type": "code",
   "execution_count": 90,
   "id": "c13e3977-3f63-44bc-94b1-51da5f758edf",
   "metadata": {},
   "outputs": [
    {
     "data": {
      "text/html": [
       "<div>\n",
       "<style scoped>\n",
       "    .dataframe tbody tr th:only-of-type {\n",
       "        vertical-align: middle;\n",
       "    }\n",
       "\n",
       "    .dataframe tbody tr th {\n",
       "        vertical-align: top;\n",
       "    }\n",
       "\n",
       "    .dataframe thead th {\n",
       "        text-align: right;\n",
       "    }\n",
       "</style>\n",
       "<table border=\"1\" class=\"dataframe\">\n",
       "  <thead>\n",
       "    <tr style=\"text-align: right;\">\n",
       "      <th></th>\n",
       "      <th>PassengerId</th>\n",
       "      <th>HomePlanet</th>\n",
       "      <th>CryoSleep</th>\n",
       "      <th>Cabin</th>\n",
       "      <th>Destination</th>\n",
       "      <th>Age</th>\n",
       "      <th>VIP</th>\n",
       "      <th>RoomService</th>\n",
       "      <th>FoodCourt</th>\n",
       "      <th>ShoppingMall</th>\n",
       "      <th>...</th>\n",
       "      <th>Cabin_Was_Missing</th>\n",
       "      <th>Destination_Was_Missing</th>\n",
       "      <th>Age_Was_Missing</th>\n",
       "      <th>VIP_Was_Missing</th>\n",
       "      <th>RoomService_Was_Missing</th>\n",
       "      <th>FoodCourt_Was_Missing</th>\n",
       "      <th>ShoppingMall_Was_Missing</th>\n",
       "      <th>Spa_Was_Missing</th>\n",
       "      <th>VRDeck_Was_Missing</th>\n",
       "      <th>Name_Was_Missing</th>\n",
       "    </tr>\n",
       "  </thead>\n",
       "  <tbody>\n",
       "    <tr>\n",
       "      <th>0</th>\n",
       "      <td>1</td>\n",
       "      <td>1</td>\n",
       "      <td>2</td>\n",
       "      <td>2785</td>\n",
       "      <td>3</td>\n",
       "      <td>27.0</td>\n",
       "      <td>1</td>\n",
       "      <td>0.0</td>\n",
       "      <td>0.0</td>\n",
       "      <td>0.0</td>\n",
       "      <td>...</td>\n",
       "      <td>False</td>\n",
       "      <td>False</td>\n",
       "      <td>False</td>\n",
       "      <td>False</td>\n",
       "      <td>False</td>\n",
       "      <td>False</td>\n",
       "      <td>False</td>\n",
       "      <td>False</td>\n",
       "      <td>False</td>\n",
       "      <td>False</td>\n",
       "    </tr>\n",
       "    <tr>\n",
       "      <th>1</th>\n",
       "      <td>2</td>\n",
       "      <td>1</td>\n",
       "      <td>1</td>\n",
       "      <td>1868</td>\n",
       "      <td>3</td>\n",
       "      <td>19.0</td>\n",
       "      <td>1</td>\n",
       "      <td>0.0</td>\n",
       "      <td>9.0</td>\n",
       "      <td>0.0</td>\n",
       "      <td>...</td>\n",
       "      <td>False</td>\n",
       "      <td>False</td>\n",
       "      <td>False</td>\n",
       "      <td>False</td>\n",
       "      <td>False</td>\n",
       "      <td>False</td>\n",
       "      <td>False</td>\n",
       "      <td>False</td>\n",
       "      <td>False</td>\n",
       "      <td>False</td>\n",
       "    </tr>\n",
       "    <tr>\n",
       "      <th>2</th>\n",
       "      <td>3</td>\n",
       "      <td>2</td>\n",
       "      <td>2</td>\n",
       "      <td>258</td>\n",
       "      <td>1</td>\n",
       "      <td>31.0</td>\n",
       "      <td>1</td>\n",
       "      <td>0.0</td>\n",
       "      <td>0.0</td>\n",
       "      <td>0.0</td>\n",
       "      <td>...</td>\n",
       "      <td>False</td>\n",
       "      <td>False</td>\n",
       "      <td>False</td>\n",
       "      <td>False</td>\n",
       "      <td>False</td>\n",
       "      <td>False</td>\n",
       "      <td>False</td>\n",
       "      <td>False</td>\n",
       "      <td>False</td>\n",
       "      <td>False</td>\n",
       "    </tr>\n",
       "    <tr>\n",
       "      <th>3</th>\n",
       "      <td>4</td>\n",
       "      <td>2</td>\n",
       "      <td>1</td>\n",
       "      <td>260</td>\n",
       "      <td>3</td>\n",
       "      <td>38.0</td>\n",
       "      <td>1</td>\n",
       "      <td>0.0</td>\n",
       "      <td>6652.0</td>\n",
       "      <td>0.0</td>\n",
       "      <td>...</td>\n",
       "      <td>False</td>\n",
       "      <td>False</td>\n",
       "      <td>False</td>\n",
       "      <td>False</td>\n",
       "      <td>False</td>\n",
       "      <td>False</td>\n",
       "      <td>False</td>\n",
       "      <td>False</td>\n",
       "      <td>False</td>\n",
       "      <td>False</td>\n",
       "    </tr>\n",
       "    <tr>\n",
       "      <th>4</th>\n",
       "      <td>5</td>\n",
       "      <td>1</td>\n",
       "      <td>1</td>\n",
       "      <td>1941</td>\n",
       "      <td>3</td>\n",
       "      <td>20.0</td>\n",
       "      <td>1</td>\n",
       "      <td>10.0</td>\n",
       "      <td>0.0</td>\n",
       "      <td>635.0</td>\n",
       "      <td>...</td>\n",
       "      <td>False</td>\n",
       "      <td>False</td>\n",
       "      <td>False</td>\n",
       "      <td>False</td>\n",
       "      <td>False</td>\n",
       "      <td>False</td>\n",
       "      <td>False</td>\n",
       "      <td>False</td>\n",
       "      <td>False</td>\n",
       "      <td>False</td>\n",
       "    </tr>\n",
       "  </tbody>\n",
       "</table>\n",
       "<p>5 rows × 26 columns</p>\n",
       "</div>"
      ],
      "text/plain": [
       "   PassengerId  HomePlanet  CryoSleep  Cabin  Destination   Age  VIP  \\\n",
       "0            1           1          2   2785            3  27.0    1   \n",
       "1            2           1          1   1868            3  19.0    1   \n",
       "2            3           2          2    258            1  31.0    1   \n",
       "3            4           2          1    260            3  38.0    1   \n",
       "4            5           1          1   1941            3  20.0    1   \n",
       "\n",
       "   RoomService  FoodCourt  ShoppingMall  ...  Cabin_Was_Missing  \\\n",
       "0          0.0        0.0           0.0  ...              False   \n",
       "1          0.0        9.0           0.0  ...              False   \n",
       "2          0.0        0.0           0.0  ...              False   \n",
       "3          0.0     6652.0           0.0  ...              False   \n",
       "4         10.0        0.0         635.0  ...              False   \n",
       "\n",
       "   Destination_Was_Missing  Age_Was_Missing  VIP_Was_Missing  \\\n",
       "0                    False            False            False   \n",
       "1                    False            False            False   \n",
       "2                    False            False            False   \n",
       "3                    False            False            False   \n",
       "4                    False            False            False   \n",
       "\n",
       "   RoomService_Was_Missing  FoodCourt_Was_Missing  ShoppingMall_Was_Missing  \\\n",
       "0                    False                  False                     False   \n",
       "1                    False                  False                     False   \n",
       "2                    False                  False                     False   \n",
       "3                    False                  False                     False   \n",
       "4                    False                  False                     False   \n",
       "\n",
       "   Spa_Was_Missing  VRDeck_Was_Missing  Name_Was_Missing  \n",
       "0            False               False             False  \n",
       "1            False               False             False  \n",
       "2            False               False             False  \n",
       "3            False               False             False  \n",
       "4            False               False             False  \n",
       "\n",
       "[5 rows x 26 columns]"
      ]
     },
     "execution_count": 90,
     "metadata": {},
     "output_type": "execute_result"
    }
   ],
   "source": [
    "# lets preprocess the test data using the 'preprocessor' function\n",
    "processed_test = preprocessor(test_data)\n",
    "processed_test.head()"
   ]
  },
  {
   "cell_type": "code",
   "execution_count": 91,
   "id": "5f009fe5-3140-4d31-b154-9c9dce674bb4",
   "metadata": {},
   "outputs": [
    {
     "data": {
      "text/plain": [
       "set()"
      ]
     },
     "execution_count": 91,
     "metadata": {},
     "output_type": "execute_result"
    }
   ],
   "source": [
    "set(x_train.columns) - set(processed_test.columns)"
   ]
  },
  {
   "cell_type": "code",
   "execution_count": 92,
   "id": "607e8b17-53e0-41d5-8837-347399d4dc77",
   "metadata": {},
   "outputs": [],
   "source": [
    "# make prediction on test data\n",
    "clf = RandomForestClassifier(n_estimators=200,min_samples_split=8,min_samples_leaf=7,max_depth=None)\n",
    "clf.fit(x_train,y_train)\n",
    "ideal_preds = clf.predict(processed_test)"
   ]
  },
  {
   "cell_type": "code",
   "execution_count": 94,
   "id": "64da04c2-a28e-4acc-85ad-befd37aa96d4",
   "metadata": {},
   "outputs": [
    {
     "data": {
      "text/plain": [
       "array([ True, False,  True, ...,  True,  True,  True], shape=(4277,))"
      ]
     },
     "execution_count": 94,
     "metadata": {},
     "output_type": "execute_result"
    }
   ],
   "source": [
    "ideal_preds"
   ]
  },
  {
   "cell_type": "code",
   "execution_count": 122,
   "id": "b4686fdf-c2e9-4d7f-97b7-a58bfd21a092",
   "metadata": {},
   "outputs": [
    {
     "data": {
      "text/plain": [
       "0       0013_01\n",
       "1       0018_01\n",
       "2       0019_01\n",
       "3       0021_01\n",
       "4       0023_01\n",
       "         ...   \n",
       "4272    9266_02\n",
       "4273    9269_01\n",
       "4274    9271_01\n",
       "4275    9273_01\n",
       "4276    9277_01\n",
       "Name: PassengerId, Length: 4277, dtype: object"
      ]
     },
     "execution_count": 122,
     "metadata": {},
     "output_type": "execute_result"
    }
   ],
   "source": [
    "# doing this so that we can bring actual passenger id that is not preprocessed form test data\n",
    "original_data = pd.read_csv(\"test.csv\")\n",
    "original_data[\"PassengerId\"]"
   ]
  },
  {
   "cell_type": "code",
   "execution_count": 123,
   "id": "60746942-4d39-4108-b615-a5bdae52780b",
   "metadata": {},
   "outputs": [
    {
     "data": {
      "text/html": [
       "<div>\n",
       "<style scoped>\n",
       "    .dataframe tbody tr th:only-of-type {\n",
       "        vertical-align: middle;\n",
       "    }\n",
       "\n",
       "    .dataframe tbody tr th {\n",
       "        vertical-align: top;\n",
       "    }\n",
       "\n",
       "    .dataframe thead th {\n",
       "        text-align: right;\n",
       "    }\n",
       "</style>\n",
       "<table border=\"1\" class=\"dataframe\">\n",
       "  <thead>\n",
       "    <tr style=\"text-align: right;\">\n",
       "      <th></th>\n",
       "      <th>PassengerId</th>\n",
       "      <th>Transported</th>\n",
       "    </tr>\n",
       "  </thead>\n",
       "  <tbody>\n",
       "    <tr>\n",
       "      <th>0</th>\n",
       "      <td>0013_01</td>\n",
       "      <td>True</td>\n",
       "    </tr>\n",
       "    <tr>\n",
       "      <th>1</th>\n",
       "      <td>0018_01</td>\n",
       "      <td>False</td>\n",
       "    </tr>\n",
       "    <tr>\n",
       "      <th>2</th>\n",
       "      <td>0019_01</td>\n",
       "      <td>True</td>\n",
       "    </tr>\n",
       "    <tr>\n",
       "      <th>3</th>\n",
       "      <td>0021_01</td>\n",
       "      <td>True</td>\n",
       "    </tr>\n",
       "    <tr>\n",
       "      <th>4</th>\n",
       "      <td>0023_01</td>\n",
       "      <td>False</td>\n",
       "    </tr>\n",
       "    <tr>\n",
       "      <th>...</th>\n",
       "      <td>...</td>\n",
       "      <td>...</td>\n",
       "    </tr>\n",
       "    <tr>\n",
       "      <th>4272</th>\n",
       "      <td>9266_02</td>\n",
       "      <td>True</td>\n",
       "    </tr>\n",
       "    <tr>\n",
       "      <th>4273</th>\n",
       "      <td>9269_01</td>\n",
       "      <td>False</td>\n",
       "    </tr>\n",
       "    <tr>\n",
       "      <th>4274</th>\n",
       "      <td>9271_01</td>\n",
       "      <td>True</td>\n",
       "    </tr>\n",
       "    <tr>\n",
       "      <th>4275</th>\n",
       "      <td>9273_01</td>\n",
       "      <td>True</td>\n",
       "    </tr>\n",
       "    <tr>\n",
       "      <th>4276</th>\n",
       "      <td>9277_01</td>\n",
       "      <td>True</td>\n",
       "    </tr>\n",
       "  </tbody>\n",
       "</table>\n",
       "<p>4277 rows × 2 columns</p>\n",
       "</div>"
      ],
      "text/plain": [
       "     PassengerId  Transported\n",
       "0        0013_01         True\n",
       "1        0018_01        False\n",
       "2        0019_01         True\n",
       "3        0021_01         True\n",
       "4        0023_01        False\n",
       "...          ...          ...\n",
       "4272     9266_02         True\n",
       "4273     9269_01        False\n",
       "4274     9271_01         True\n",
       "4275     9273_01         True\n",
       "4276     9277_01         True\n",
       "\n",
       "[4277 rows x 2 columns]"
      ]
     },
     "execution_count": 123,
     "metadata": {},
     "output_type": "execute_result"
    }
   ],
   "source": [
    "# lets format the data\n",
    "test_results = pd.DataFrame()\n",
    "test_results[\"PassengerId\"] = original_data[\"PassengerId\"]\n",
    "test_results[\"Transported\"] = ideal_preds\n",
    "\n",
    "test_results"
   ]
  },
  {
   "cell_type": "code",
   "execution_count": 124,
   "id": "9b5dfb8a-0a96-4df4-a0c0-fe0965fc4d54",
   "metadata": {},
   "outputs": [],
   "source": [
    "test_results.to_csv(\"Spaceship-titanic-predictions.csv\",index=False)"
   ]
  },
  {
   "cell_type": "code",
   "execution_count": 125,
   "id": "1ef9c53c-b39c-4190-8270-ca95b19b7465",
   "metadata": {},
   "outputs": [
    {
     "name": "stdout",
     "output_type": "stream",
     "text": [
      "<class 'pandas.core.frame.DataFrame'>\n",
      "RangeIndex: 4277 entries, 0 to 4276\n",
      "Data columns (total 2 columns):\n",
      " #   Column       Non-Null Count  Dtype \n",
      "---  ------       --------------  ----- \n",
      " 0   PassengerId  4277 non-null   object\n",
      " 1   Transported  4277 non-null   bool  \n",
      "dtypes: bool(1), object(1)\n",
      "memory usage: 37.7+ KB\n"
     ]
    }
   ],
   "source": [
    "test_results.info()"
   ]
  },
  {
   "cell_type": "code",
   "execution_count": null,
   "id": "bed855eb-33cc-403a-8cf6-000040bb93d8",
   "metadata": {},
   "outputs": [],
   "source": []
  },
  {
   "cell_type": "code",
   "execution_count": null,
   "id": "33da96e2-097a-444f-82a5-d4a4672a025f",
   "metadata": {},
   "outputs": [],
   "source": []
  },
  {
   "cell_type": "code",
   "execution_count": null,
   "id": "81266263-996d-4df8-b4ba-ed6265617599",
   "metadata": {},
   "outputs": [],
   "source": []
  }
 ],
 "metadata": {
  "kernelspec": {
   "display_name": "Python 3 (ipykernel)",
   "language": "python",
   "name": "python3"
  },
  "language_info": {
   "codemirror_mode": {
    "name": "ipython",
    "version": 3
   },
   "file_extension": ".py",
   "mimetype": "text/x-python",
   "name": "python",
   "nbconvert_exporter": "python",
   "pygments_lexer": "ipython3",
   "version": "3.11.13"
  }
 },
 "nbformat": 4,
 "nbformat_minor": 5
}
